{
 "cells": [
  {
   "cell_type": "code",
   "execution_count": null,
   "metadata": {},
   "outputs": [],
   "source": [
    "import gc, argparse, sys, os, errno\n",
    "%pylab inline\n",
    "import numpy as np\n",
    "import pandas as pd\n",
    "import matplotlib.pyplot as plt\n",
    "import seaborn as sns\n",
    "sns.set()\n",
    "sns.set_style('whitegrid')\n",
    "import h5py\n",
    "import os\n",
    "from tqdm import tqdm_notebook as tqdm\n",
    "import scipy\n",
    "import sklearn\n",
    "from scipy.stats import pearsonr\n",
    "import warnings\n",
    "warnings.filterwarnings('ignore')"
   ]
  },
  {
   "cell_type": "code",
   "execution_count": null,
   "metadata": {},
   "outputs": [],
   "source": [
    "dup_1 = pd.read_table('/home/xieyufeng/test1/02.mapping/dedup/table/pico-1_1.csv')\n",
    "dup_1.columns=['read','value','chromsome','location'];\n",
    "#是dup就是0，不是dup则为1\n",
    "dup_1.loc[dup_1.value < 1024,'dedup'] = 1\n",
    "dup_1.loc[dup_1.value == 1024,'dedup'] = 0\n",
    "dup_1.loc[dup_1.value >= 3072,'dedup'] = 0\n",
    "dup_1.loc[(dup_1.value > 1024) & (dup_1.value < 2048),'dedup'] = 0\n",
    "dup_1.loc[(dup_1.value >= 2048) & (dup_1.value < 3072),'dedup'] = 1\n",
    "dup_1['dup'] = 1.0\n",
    "dup_1['location']=dup_1['location'].astype(str)\n",
    "dup_1['chrom_loc']=dup_1['chromsome'].str.cat('_'+dup_1['location'])\n",
    "dup_1.index = dup_1['chrom_loc']\n",
    "#statsdata_1= pd.DataFrame(dup_1.groupby('chrom_loc')['dedup','dup'].sum())\n",
    "statsdata_1= pd.DataFrame(dup_1.groupby('chrom_loc')['dedup','dup'])\n",
    "statsdata_1.head()"
   ]
  },
  {
   "cell_type": "code",
   "execution_count": 15,
   "metadata": {},
   "outputs": [],
   "source": [
    "statsdata_1['position'] = np.array([statsdata_1.index[i].split('_')[1] for i in range(statsdata_1.index.shape[0])])\n",
    "statsdata_1['chr'] = np.array([statsdata_1.index[j].split('_')[0] for j in range(statsdata_1.index.shape[0])])\n"
   ]
  },
  {
   "cell_type": "code",
   "execution_count": 16,
   "metadata": {},
   "outputs": [
    {
     "data": {
      "text/html": [
       "<div>\n",
       "<style scoped>\n",
       "    .dataframe tbody tr th:only-of-type {\n",
       "        vertical-align: middle;\n",
       "    }\n",
       "\n",
       "    .dataframe tbody tr th {\n",
       "        vertical-align: top;\n",
       "    }\n",
       "\n",
       "    .dataframe thead th {\n",
       "        text-align: right;\n",
       "    }\n",
       "</style>\n",
       "<table border=\"1\" class=\"dataframe\">\n",
       "  <thead>\n",
       "    <tr style=\"text-align: right;\">\n",
       "      <th></th>\n",
       "      <th>dedup</th>\n",
       "      <th>dup</th>\n",
       "      <th>position</th>\n",
       "      <th>chr</th>\n",
       "    </tr>\n",
       "    <tr>\n",
       "      <th>chrom_loc</th>\n",
       "      <th></th>\n",
       "      <th></th>\n",
       "      <th></th>\n",
       "      <th></th>\n",
       "    </tr>\n",
       "  </thead>\n",
       "  <tbody>\n",
       "    <tr>\n",
       "      <th>GL000008.2_103237</th>\n",
       "      <td>1.0</td>\n",
       "      <td>1.0</td>\n",
       "      <td>103237</td>\n",
       "      <td>GL000008.2</td>\n",
       "    </tr>\n",
       "    <tr>\n",
       "      <th>GL000008.2_10635</th>\n",
       "      <td>1.0</td>\n",
       "      <td>1.0</td>\n",
       "      <td>10635</td>\n",
       "      <td>GL000008.2</td>\n",
       "    </tr>\n",
       "    <tr>\n",
       "      <th>GL000008.2_1072</th>\n",
       "      <td>1.0</td>\n",
       "      <td>3.0</td>\n",
       "      <td>1072</td>\n",
       "      <td>GL000008.2</td>\n",
       "    </tr>\n",
       "    <tr>\n",
       "      <th>GL000008.2_107538</th>\n",
       "      <td>1.0</td>\n",
       "      <td>1.0</td>\n",
       "      <td>107538</td>\n",
       "      <td>GL000008.2</td>\n",
       "    </tr>\n",
       "    <tr>\n",
       "      <th>GL000008.2_1081</th>\n",
       "      <td>1.0</td>\n",
       "      <td>1.0</td>\n",
       "      <td>1081</td>\n",
       "      <td>GL000008.2</td>\n",
       "    </tr>\n",
       "  </tbody>\n",
       "</table>\n",
       "</div>"
      ],
      "text/plain": [
       "                   dedup  dup position         chr\n",
       "chrom_loc                                         \n",
       "GL000008.2_103237    1.0  1.0   103237  GL000008.2\n",
       "GL000008.2_10635     1.0  1.0    10635  GL000008.2\n",
       "GL000008.2_1072      1.0  3.0     1072  GL000008.2\n",
       "GL000008.2_107538    1.0  1.0   107538  GL000008.2\n",
       "GL000008.2_1081      1.0  1.0     1081  GL000008.2"
      ]
     },
     "execution_count": 16,
     "metadata": {},
     "output_type": "execute_result"
    }
   ],
   "source": [
    "statsdata_1.head()"
   ]
  },
  {
   "cell_type": "code",
   "execution_count": 3,
   "metadata": {},
   "outputs": [
    {
     "data": {
      "text/html": [
       "<div>\n",
       "<style scoped>\n",
       "    .dataframe tbody tr th:only-of-type {\n",
       "        vertical-align: middle;\n",
       "    }\n",
       "\n",
       "    .dataframe tbody tr th {\n",
       "        vertical-align: top;\n",
       "    }\n",
       "\n",
       "    .dataframe thead th {\n",
       "        text-align: right;\n",
       "    }\n",
       "</style>\n",
       "<table border=\"1\" class=\"dataframe\">\n",
       "  <thead>\n",
       "    <tr style=\"text-align: right;\">\n",
       "      <th></th>\n",
       "      <th>dedup</th>\n",
       "      <th>dup</th>\n",
       "    </tr>\n",
       "    <tr>\n",
       "      <th>chrom_loc</th>\n",
       "      <th></th>\n",
       "      <th></th>\n",
       "    </tr>\n",
       "  </thead>\n",
       "  <tbody>\n",
       "    <tr>\n",
       "      <th>GL000008.2_152807</th>\n",
       "      <td>1.0</td>\n",
       "      <td>2.0</td>\n",
       "    </tr>\n",
       "    <tr>\n",
       "      <th>GL000008.2_159378</th>\n",
       "      <td>1.0</td>\n",
       "      <td>1.0</td>\n",
       "    </tr>\n",
       "    <tr>\n",
       "      <th>GL000008.2_159380</th>\n",
       "      <td>1.0</td>\n",
       "      <td>1.0</td>\n",
       "    </tr>\n",
       "    <tr>\n",
       "      <th>GL000008.2_173473</th>\n",
       "      <td>1.0</td>\n",
       "      <td>1.0</td>\n",
       "    </tr>\n",
       "    <tr>\n",
       "      <th>GL000008.2_173474</th>\n",
       "      <td>1.0</td>\n",
       "      <td>1.0</td>\n",
       "    </tr>\n",
       "  </tbody>\n",
       "</table>\n",
       "</div>"
      ],
      "text/plain": [
       "                   dedup  dup\n",
       "chrom_loc                    \n",
       "GL000008.2_152807    1.0  2.0\n",
       "GL000008.2_159378    1.0  1.0\n",
       "GL000008.2_159380    1.0  1.0\n",
       "GL000008.2_173473    1.0  1.0\n",
       "GL000008.2_173474    1.0  1.0"
      ]
     },
     "execution_count": 3,
     "metadata": {},
     "output_type": "execute_result"
    }
   ],
   "source": [
    "dup_2 = pd.read_table('/home/xieyufeng/test1/02.mapping/dedup/table/pico-2_1.csv')\n",
    "dup_2.columns=['read','value','chromsome','location'];\n",
    "#是dup就是0，不是dup则为1\n",
    "dup_2.loc[dup_2.value < 1024,'dedup'] = 1\n",
    "dup_2.loc[dup_2.value == 1024,'dedup'] = 0\n",
    "dup_2.loc[dup_2.value >= 3072,'dedup'] = 0\n",
    "dup_2.loc[(dup_2.value > 1024) & (dup_2.value < 2048),'dedup'] = 0\n",
    "dup_2.loc[(dup_2.value >= 2048) & (dup_2.value < 3072),'dedup'] = 1\n",
    "dup_2['dup'] = 1.0\n",
    "dup_2['location']=dup_2['location'].astype(str)\n",
    "dup_2['chrom_loc']=dup_2['chromsome'].str.cat('_'+dup_2['location'])\n",
    "dup_2.index = dup_2['chrom_loc']\n",
    "statsdata_2= pd.DataFrame(dup_2.groupby('chrom_loc')['dedup','dup'].sum())\n",
    "statsdata_2.head()"
   ]
  },
  {
   "cell_type": "code",
   "execution_count": 17,
   "metadata": {},
   "outputs": [],
   "source": [
    "statsdata_2['position'] = np.array([statsdata_2.index[i].split('_')[1] for i in range(statsdata_2.index.shape[0])])\n",
    "statsdata_2['chr'] = np.array([statsdata_2.index[j].split('_')[0] for j in range(statsdata_2.index.shape[0])])\n",
    "\n"
   ]
  },
  {
   "cell_type": "code",
   "execution_count": 5,
   "metadata": {},
   "outputs": [],
   "source": [
    "chrom_loc_overlap = np.intersect1d(statsdata_1.index,statsdata_2.index)"
   ]
  },
  {
   "cell_type": "code",
   "execution_count": 6,
   "metadata": {},
   "outputs": [],
   "source": [
    "statsdata_1_overlap = statsdata_1.loc[chrom_loc_overlap]"
   ]
  },
  {
   "cell_type": "code",
   "execution_count": 7,
   "metadata": {},
   "outputs": [
    {
     "data": {
      "text/plain": [
       "471353"
      ]
     },
     "execution_count": 7,
     "metadata": {},
     "output_type": "execute_result"
    }
   ],
   "source": [
    "statsdata_1_overlap.shape[0]"
   ]
  },
  {
   "cell_type": "code",
   "execution_count": 6,
   "metadata": {},
   "outputs": [
    {
     "data": {
      "text/plain": [
       "471353"
      ]
     },
     "execution_count": 6,
     "metadata": {},
     "output_type": "execute_result"
    }
   ],
   "source": [
    "chrom_loc_overlap.shape[0]"
   ]
  },
  {
   "cell_type": "code",
   "execution_count": null,
   "metadata": {},
   "outputs": [],
   "source": [
    "[1, 10, 11, 12, 13, 14, 15, 16, 17, 18, 19, 2, 20, 21, 22, 3, 4, 5, 6, 7, 8, 9, MT, X, Y, KI270728.1, KI270727.1, \n",
    "KI270442.1, KI270729.1, GL000225.1, KI270743.1, GL000008.2, GL000009.2, KI270747.1, KI270722.1, GL000194.1, KI270742.1, \n",
    "GL000205.2, GL000195.1, KI270736.1, KI270733.1, GL000224.1, GL000219.1, KI270719.1, GL000216.2, KI270712.1, KI270706.1, \n",
    "KI270725.1, KI270744.1, KI270734.1, GL000213.1, GL000220.1, KI270715.1, GL000218.1, KI270749.1, KI270741.1, GL000221.1, \n",
    "KI270716.1, KI270731.1, KI270751.1, KI270750.1, KI270519.1, GL000214.1, KI270708.1, KI270730.1, KI270438.1, KI270737.1, \n",
    "KI270721.1, KI270738.1, KI270748.1, KI270435.1, GL000208.1, KI270538.1, KI270756.1, KI270739.1, KI270757.1, KI270709.1, \n",
    "KI270746.1, KI270753.1, KI270589.1, KI270726.1, KI270735.1, KI270711.1, KI270745.1, KI270714.1, KI270732.1, KI270713.1, \n",
    "KI270754.1, KI270710.1, KI270717.1, KI270724.1, KI270720.1, KI270723.1, KI270718.1, KI270317.1, KI270740.1, KI270755.1, \n",
    "KI270707.1, KI270579.1, KI270752.1, KI270512.1, KI270322.1, GL000226.1, KI270311.1, KI270366.1, KI270511.1, KI270448.1, \n",
    "KI270521.1, KI270581.1, KI270582.1, KI270515.1, KI270588.1, KI270591.1, KI270522.1, KI270507.1, KI270590.1, KI270584.1, \n",
    "KI270320.1, KI270382.1, KI270468.1, KI270467.1, KI270362.1, KI270517.1, KI270593.1, KI270528.1, KI270587.1, KI270364.1, \n",
    "KI270371.1, KI270333.1, KI270374.1, KI270411.1, KI270414.1, KI270510.1, KI270390.1, KI270375.1, KI270420.1, KI270509.1, \n",
    "KI270315.1, KI270302.1, KI270518.1, KI270530.1, KI270304.1, KI270418.1, KI270424.1, KI270417.1, KI270508.1, KI270303.1, \n",
    "KI270381.1, KI270529.1, KI270425.1, KI270396.1, KI270363.1, KI270386.1, KI270465.1, KI270383.1, KI270384.1, KI270330.1, \n",
    "KI270372.1, KI270548.1, KI270580.1, KI270387.1, KI270391.1, KI270305.1, KI270373.1, KI270422.1, KI270316.1, KI270340.1, \n",
    "KI270338.1, KI270583.1, KI270334.1, KI270429.1, KI270393.1, KI270516.1, KI270389.1, KI270466.1, KI270388.1, KI270544.1, \n",
    "KI270310.1, KI270412.1, KI270395.1, KI270376.1, KI270337.1, KI270335.1, KI270378.1, KI270379.1, KI270329.1, KI270419.1, \n",
    "KI270336.1, KI270312.1, KI270539.1, KI270385.1, KI270423.1, KI270392.1, KI270394.1]"
   ]
  }
 ],
 "metadata": {
  "kernelspec": {
   "display_name": "Python 3",
   "language": "python",
   "name": "python3"
  },
  "language_info": {
   "codemirror_mode": {
    "name": "ipython",
    "version": 3
   },
   "file_extension": ".py",
   "mimetype": "text/x-python",
   "name": "python",
   "nbconvert_exporter": "python",
   "pygments_lexer": "ipython3",
   "version": "3.6.3"
  }
 },
 "nbformat": 4,
 "nbformat_minor": 2
}
